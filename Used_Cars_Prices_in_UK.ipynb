{
  "metadata": {
    "kernelspec": {
      "language": "python",
      "display_name": "Python 3",
      "name": "python3"
    },
    "language_info": {
      "pygments_lexer": "ipython3",
      "nbconvert_exporter": "python",
      "version": "3.6.4",
      "file_extension": ".py",
      "codemirror_mode": {
        "name": "ipython",
        "version": 3
      },
      "name": "python",
      "mimetype": "text/x-python"
    },
    "colab": {
      "name": "Used Cars Prices in UK",
      "provenance": [],
      "include_colab_link": true
    }
  },
  "nbformat_minor": 0,
  "nbformat": 4,
  "cells": [
    {
      "cell_type": "markdown",
      "metadata": {
        "id": "view-in-github",
        "colab_type": "text"
      },
      "source": [
        "<a href=\"https://colab.research.google.com/github/hussainqadiim/-/blob/main/Used_Cars_Prices_in_UK.ipynb\" target=\"_parent\"><img src=\"https://colab.research.google.com/assets/colab-badge.svg\" alt=\"Open In Colab\"/></a>"
      ]
    },
    {
      "source": [
        "\n",
        "# IMPORTANT: RUN THIS CELL IN ORDER TO IMPORT YOUR KAGGLE DATA SOURCES\n",
        "# TO THE CORRECT LOCATION (/kaggle/input) IN YOUR NOTEBOOK,\n",
        "# THEN FEEL FREE TO DELETE THIS CELL.\n",
        "# NOTE: THIS NOTEBOOK ENVIRONMENT DIFFERS FROM KAGGLE'S PYTHON\n",
        "# ENVIRONMENT SO THERE MAY BE MISSING LIBRARIES USED BY YOUR\n",
        "# NOTEBOOK.\n",
        "\n",
        "import os\n",
        "import sys\n",
        "from tempfile import NamedTemporaryFile\n",
        "from urllib.request import urlopen\n",
        "from urllib.parse import unquote, urlparse\n",
        "from urllib.error import HTTPError\n",
        "from zipfile import ZipFile\n",
        "import tarfile\n",
        "import shutil\n",
        "\n",
        "CHUNK_SIZE = 40960\n",
        "DATA_SOURCE_MAPPING = 'used-cars-prices-in-uk:https%3A%2F%2Fstorage.googleapis.com%2Fkaggle-data-sets%2F3891476%2F6761207%2Fbundle%2Farchive.zip%3FX-Goog-Algorithm%3DGOOG4-RSA-SHA256%26X-Goog-Credential%3Dgcp-kaggle-com%2540kaggle-161607.iam.gserviceaccount.com%252F20240214%252Fauto%252Fstorage%252Fgoog4_request%26X-Goog-Date%3D20240214T140326Z%26X-Goog-Expires%3D259200%26X-Goog-SignedHeaders%3Dhost%26X-Goog-Signature%3D3aafe4b4e776d1b740191e0f51a762b367ab07033e724e609fbf33beb99fd61a29d9f5dae02b317e39e7ef8080a256c36171448f5be6129ad79bd2fa5fd9e8b8b04118e6442499e11741651e6e6868690fb58623ebd4a12a5341b448a6c93b725a25a52bf274a282c4d7184733acc0de54192d7e4b98f0ce5d9f3159803d2e5c2cb126a6d278da3f2e810ec638402b651bc93063268badeb2f55f195dd3ec66b2c7c22280077881be2c6ff1a303f8141bd44a4f7260827fe4b9f8de88edc40591a34de724900a6c5419822dfb8151007581715f440ae8de892cc5fe6b5b3d17cfab683e3b187273e50dd8e8a9fba1662553a697de3cc6b3f8b202b5134700b01'\n",
        "\n",
        "KAGGLE_INPUT_PATH='/kaggle/input'\n",
        "KAGGLE_WORKING_PATH='/kaggle/working'\n",
        "KAGGLE_SYMLINK='kaggle'\n",
        "\n",
        "!umount /kaggle/input/ 2> /dev/null\n",
        "shutil.rmtree('/kaggle/input', ignore_errors=True)\n",
        "os.makedirs(KAGGLE_INPUT_PATH, 0o777, exist_ok=True)\n",
        "os.makedirs(KAGGLE_WORKING_PATH, 0o777, exist_ok=True)\n",
        "\n",
        "try:\n",
        "  os.symlink(KAGGLE_INPUT_PATH, os.path.join(\"..\", 'input'), target_is_directory=True)\n",
        "except FileExistsError:\n",
        "  pass\n",
        "try:\n",
        "  os.symlink(KAGGLE_WORKING_PATH, os.path.join(\"..\", 'working'), target_is_directory=True)\n",
        "except FileExistsError:\n",
        "  pass\n",
        "\n",
        "for data_source_mapping in DATA_SOURCE_MAPPING.split(','):\n",
        "    directory, download_url_encoded = data_source_mapping.split(':')\n",
        "    download_url = unquote(download_url_encoded)\n",
        "    filename = urlparse(download_url).path\n",
        "    destination_path = os.path.join(KAGGLE_INPUT_PATH, directory)\n",
        "    try:\n",
        "        with urlopen(download_url) as fileres, NamedTemporaryFile() as tfile:\n",
        "            total_length = fileres.headers['content-length']\n",
        "            print(f'Downloading {directory}, {total_length} bytes compressed')\n",
        "            dl = 0\n",
        "            data = fileres.read(CHUNK_SIZE)\n",
        "            while len(data) > 0:\n",
        "                dl += len(data)\n",
        "                tfile.write(data)\n",
        "                done = int(50 * dl / int(total_length))\n",
        "                sys.stdout.write(f\"\\r[{'=' * done}{' ' * (50-done)}] {dl} bytes downloaded\")\n",
        "                sys.stdout.flush()\n",
        "                data = fileres.read(CHUNK_SIZE)\n",
        "            if filename.endswith('.zip'):\n",
        "              with ZipFile(tfile) as zfile:\n",
        "                zfile.extractall(destination_path)\n",
        "            else:\n",
        "              with tarfile.open(tfile.name) as tarfile:\n",
        "                tarfile.extractall(destination_path)\n",
        "            print(f'\\nDownloaded and uncompressed: {directory}')\n",
        "    except HTTPError as e:\n",
        "        print(f'Failed to load (likely expired) {download_url} to path {destination_path}')\n",
        "        continue\n",
        "    except OSError as e:\n",
        "        print(f'Failed to load {download_url} to path {destination_path}')\n",
        "        continue\n",
        "\n",
        "print('Data source import complete.')\n"
      ],
      "metadata": {
        "id": "YjalBwKCgv5s"
      },
      "cell_type": "code",
      "outputs": [],
      "execution_count": null
    },
    {
      "cell_type": "code",
      "source": [
        "%matplotlib inline\n",
        "\n",
        "import numpy as np\n",
        "import pandas as pd\n",
        "import matplotlib.pyplot as plt\n",
        "import seaborn as sns\n",
        "\n",
        "import warnings\n",
        "warnings.simplefilter(\"ignore\")\n",
        "\n",
        "pd.set_option(\"display.max_columns\",None)"
      ],
      "metadata": {
        "_uuid": "8f2839f25d086af736a60e9eeb907d3b93b6e0e5",
        "_cell_guid": "b1076dfc-b9ad-4769-8c92-a6c4dae69d19",
        "execution": {
          "iopub.status.busy": "2023-10-22T08:56:25.60755Z",
          "iopub.execute_input": "2023-10-22T08:56:25.607985Z",
          "iopub.status.idle": "2023-10-22T08:56:27.885444Z",
          "shell.execute_reply.started": "2023-10-22T08:56:25.607947Z",
          "shell.execute_reply": "2023-10-22T08:56:27.883678Z"
        },
        "trusted": true,
        "id": "TIWavgaDgv5v"
      },
      "execution_count": null,
      "outputs": []
    },
    {
      "cell_type": "code",
      "source": [
        "TARGET = \"Price\""
      ],
      "metadata": {
        "execution": {
          "iopub.status.busy": "2023-10-22T08:57:25.206925Z",
          "iopub.execute_input": "2023-10-22T08:57:25.207363Z",
          "iopub.status.idle": "2023-10-22T08:57:25.212617Z",
          "shell.execute_reply.started": "2023-10-22T08:57:25.207318Z",
          "shell.execute_reply": "2023-10-22T08:57:25.211362Z"
        },
        "trusted": true,
        "id": "qAEV-rVcgv5v"
      },
      "execution_count": null,
      "outputs": []
    },
    {
      "cell_type": "markdown",
      "source": [
        "# Loading Data"
      ],
      "metadata": {
        "id": "fz2_3KX0gv5v"
      }
    },
    {
      "cell_type": "code",
      "source": [
        "df = pd.read_csv(\"/kaggle/input/used-cars-prices-in-uk/used_cars_UK.csv\",index_col=0)\n",
        "print(df.shape)\n",
        "df.head(3)"
      ],
      "metadata": {
        "execution": {
          "iopub.status.busy": "2023-10-22T08:56:50.674572Z",
          "iopub.execute_input": "2023-10-22T08:56:50.674974Z",
          "iopub.status.idle": "2023-10-22T08:56:50.719791Z",
          "shell.execute_reply.started": "2023-10-22T08:56:50.674942Z",
          "shell.execute_reply": "2023-10-22T08:56:50.718488Z"
        },
        "trusted": true,
        "id": "WTSIsoGlgv5x"
      },
      "execution_count": null,
      "outputs": []
    },
    {
      "cell_type": "markdown",
      "source": [
        "# Data Observation"
      ],
      "metadata": {
        "id": "9cUHs7DMgv5x"
      }
    },
    {
      "cell_type": "markdown",
      "source": [
        "## all"
      ],
      "metadata": {
        "id": "kS1Q7XbFgv5x"
      }
    },
    {
      "cell_type": "code",
      "source": [
        "df.describe()"
      ],
      "metadata": {
        "execution": {
          "iopub.status.busy": "2023-10-22T08:58:01.85626Z",
          "iopub.execute_input": "2023-10-22T08:58:01.85676Z",
          "iopub.status.idle": "2023-10-22T08:58:01.895957Z",
          "shell.execute_reply.started": "2023-10-22T08:58:01.856712Z",
          "shell.execute_reply": "2023-10-22T08:58:01.89461Z"
        },
        "trusted": true,
        "id": "qbLl6p3Ogv5x"
      },
      "execution_count": null,
      "outputs": []
    },
    {
      "cell_type": "code",
      "source": [
        "df.info()"
      ],
      "metadata": {
        "execution": {
          "iopub.status.busy": "2023-10-22T08:58:16.922069Z",
          "iopub.execute_input": "2023-10-22T08:58:16.922627Z",
          "iopub.status.idle": "2023-10-22T08:58:16.94709Z",
          "shell.execute_reply.started": "2023-10-22T08:58:16.922594Z",
          "shell.execute_reply": "2023-10-22T08:58:16.946075Z"
        },
        "trusted": true,
        "id": "RtU2dTL-gv5x"
      },
      "execution_count": null,
      "outputs": []
    },
    {
      "cell_type": "code",
      "source": [
        "df.isnull().sum()"
      ],
      "metadata": {
        "execution": {
          "iopub.status.busy": "2023-10-22T08:58:22.972668Z",
          "iopub.execute_input": "2023-10-22T08:58:22.973073Z",
          "iopub.status.idle": "2023-10-22T08:58:22.98575Z",
          "shell.execute_reply.started": "2023-10-22T08:58:22.973042Z",
          "shell.execute_reply": "2023-10-22T08:58:22.984729Z"
        },
        "trusted": true,
        "id": "kDR4isf_gv5y"
      },
      "execution_count": null,
      "outputs": []
    },
    {
      "cell_type": "markdown",
      "source": [
        "## Price"
      ],
      "metadata": {
        "id": "h80SjMPhgv5y"
      }
    },
    {
      "cell_type": "code",
      "source": [
        "sns.histplot(df[TARGET])"
      ],
      "metadata": {
        "execution": {
          "iopub.status.busy": "2023-10-22T08:58:48.841262Z",
          "iopub.execute_input": "2023-10-22T08:58:48.841857Z",
          "iopub.status.idle": "2023-10-22T08:58:49.300948Z",
          "shell.execute_reply.started": "2023-10-22T08:58:48.841808Z",
          "shell.execute_reply": "2023-10-22T08:58:49.299647Z"
        },
        "trusted": true,
        "id": "bkxWcFRrgv5y"
      },
      "execution_count": null,
      "outputs": []
    },
    {
      "cell_type": "markdown",
      "source": [
        "## Mileage(miles)"
      ],
      "metadata": {
        "id": "aRi05L7ogv5y"
      }
    },
    {
      "cell_type": "code",
      "source": [
        "df = df[df[\"Mileage(miles)\"]<1000000]"
      ],
      "metadata": {
        "execution": {
          "iopub.status.busy": "2023-10-22T09:01:35.289177Z",
          "iopub.execute_input": "2023-10-22T09:01:35.289631Z",
          "iopub.status.idle": "2023-10-22T09:01:35.297013Z",
          "shell.execute_reply.started": "2023-10-22T09:01:35.289596Z",
          "shell.execute_reply": "2023-10-22T09:01:35.295818Z"
        },
        "trusted": true,
        "id": "-LiDsiozgv5y"
      },
      "execution_count": null,
      "outputs": []
    },
    {
      "cell_type": "code",
      "source": [
        "sns.histplot(df[\"Mileage(miles)\"])"
      ],
      "metadata": {
        "execution": {
          "iopub.status.busy": "2023-10-22T09:01:36.088787Z",
          "iopub.execute_input": "2023-10-22T09:01:36.089484Z",
          "iopub.status.idle": "2023-10-22T09:01:36.789369Z",
          "shell.execute_reply.started": "2023-10-22T09:01:36.089446Z",
          "shell.execute_reply": "2023-10-22T09:01:36.788151Z"
        },
        "trusted": true,
        "id": "qpMAznYNgv5y"
      },
      "execution_count": null,
      "outputs": []
    },
    {
      "cell_type": "code",
      "source": [
        "sns.scatterplot(x=df[\"Mileage(miles)\"],y=df[TARGET])"
      ],
      "metadata": {
        "execution": {
          "iopub.status.busy": "2023-10-22T09:01:38.35684Z",
          "iopub.execute_input": "2023-10-22T09:01:38.357217Z",
          "iopub.status.idle": "2023-10-22T09:01:38.717438Z",
          "shell.execute_reply.started": "2023-10-22T09:01:38.357186Z",
          "shell.execute_reply": "2023-10-22T09:01:38.71609Z"
        },
        "trusted": true,
        "id": "6DcNfyb6gv5z"
      },
      "execution_count": null,
      "outputs": []
    },
    {
      "cell_type": "markdown",
      "source": [
        "# Registration_Year"
      ],
      "metadata": {
        "id": "Wo_0KIJngv5z"
      }
    },
    {
      "cell_type": "code",
      "source": [
        "sns.histplot(df[\"Registration_Year\"])"
      ],
      "metadata": {
        "execution": {
          "iopub.status.busy": "2023-10-22T09:02:14.171793Z",
          "iopub.execute_input": "2023-10-22T09:02:14.172205Z",
          "iopub.status.idle": "2023-10-22T09:02:14.650524Z",
          "shell.execute_reply.started": "2023-10-22T09:02:14.172165Z",
          "shell.execute_reply": "2023-10-22T09:02:14.648834Z"
        },
        "trusted": true,
        "id": "Rth1YOBmgv5z"
      },
      "execution_count": null,
      "outputs": []
    },
    {
      "cell_type": "code",
      "source": [
        "df[\"Registration_Year\"].value_counts()"
      ],
      "metadata": {
        "execution": {
          "iopub.status.busy": "2023-10-22T09:05:43.390056Z",
          "iopub.execute_input": "2023-10-22T09:05:43.390569Z",
          "iopub.status.idle": "2023-10-22T09:05:43.400947Z",
          "shell.execute_reply.started": "2023-10-22T09:05:43.390523Z",
          "shell.execute_reply": "2023-10-22T09:05:43.399985Z"
        },
        "trusted": true,
        "id": "WIotOUvwgv5z"
      },
      "execution_count": null,
      "outputs": []
    },
    {
      "cell_type": "code",
      "source": [
        "tmp_df = df.groupby(\"Registration_Year\").agg({TARGET:\"mean\"})\n",
        "sns.lineplot(x=tmp_df.index, y=tmp_df[TARGET])"
      ],
      "metadata": {
        "execution": {
          "iopub.status.busy": "2023-10-22T09:05:11.405517Z",
          "iopub.execute_input": "2023-10-22T09:05:11.406029Z",
          "iopub.status.idle": "2023-10-22T09:05:11.74612Z",
          "shell.execute_reply.started": "2023-10-22T09:05:11.405911Z",
          "shell.execute_reply": "2023-10-22T09:05:11.744947Z"
        },
        "trusted": true,
        "id": "d-q8zUpygv5z"
      },
      "execution_count": null,
      "outputs": []
    },
    {
      "cell_type": "markdown",
      "source": [
        "## Previous Owners"
      ],
      "metadata": {
        "id": "N7ebA3Lngv5z"
      }
    },
    {
      "cell_type": "code",
      "source": [
        "sns.histplot(df[\"Previous Owners\"])"
      ],
      "metadata": {
        "execution": {
          "iopub.status.busy": "2023-10-22T09:07:35.755776Z",
          "iopub.execute_input": "2023-10-22T09:07:35.756226Z",
          "iopub.status.idle": "2023-10-22T09:07:36.147612Z",
          "shell.execute_reply.started": "2023-10-22T09:07:35.756191Z",
          "shell.execute_reply": "2023-10-22T09:07:36.146327Z"
        },
        "trusted": true,
        "id": "qIiAB0hYgv5z"
      },
      "execution_count": null,
      "outputs": []
    },
    {
      "cell_type": "code",
      "source": [
        "sns.boxplot(x=df[\"Previous Owners\"],y=df[TARGET])"
      ],
      "metadata": {
        "execution": {
          "iopub.status.busy": "2023-10-22T09:10:17.724563Z",
          "iopub.execute_input": "2023-10-22T09:10:17.724972Z",
          "iopub.status.idle": "2023-10-22T09:10:18.078564Z",
          "shell.execute_reply.started": "2023-10-22T09:10:17.724942Z",
          "shell.execute_reply": "2023-10-22T09:10:18.077252Z"
        },
        "trusted": true,
        "id": "LW9END-fgv5z"
      },
      "execution_count": null,
      "outputs": []
    },
    {
      "cell_type": "code",
      "source": [
        "tmp_df = df.groupby(\"Previous Owners\").agg({TARGET:\"mean\"})\n",
        "sns.barplot(x=tmp_df.index,y=tmp_df[TARGET])"
      ],
      "metadata": {
        "execution": {
          "iopub.status.busy": "2023-10-22T09:09:00.657543Z",
          "iopub.execute_input": "2023-10-22T09:09:00.65801Z",
          "iopub.status.idle": "2023-10-22T09:09:00.966155Z",
          "shell.execute_reply.started": "2023-10-22T09:09:00.657971Z",
          "shell.execute_reply": "2023-10-22T09:09:00.964979Z"
        },
        "trusted": true,
        "id": "h_MyCwe8gv5z"
      },
      "execution_count": null,
      "outputs": []
    },
    {
      "cell_type": "code",
      "source": [
        "sns.boxplot(x=df[\"Previous Owners\"],y=df[\"Registration_Year\"])"
      ],
      "metadata": {
        "execution": {
          "iopub.status.busy": "2023-10-22T09:10:33.656851Z",
          "iopub.execute_input": "2023-10-22T09:10:33.65724Z",
          "iopub.status.idle": "2023-10-22T09:10:34.035735Z",
          "shell.execute_reply.started": "2023-10-22T09:10:33.657207Z",
          "shell.execute_reply": "2023-10-22T09:10:34.034424Z"
        },
        "trusted": true,
        "id": "KAz2wrxTgv5z"
      },
      "execution_count": null,
      "outputs": []
    },
    {
      "cell_type": "markdown",
      "source": [
        "## Fuel type"
      ],
      "metadata": {
        "id": "m6oQo1vkgv5z"
      }
    },
    {
      "cell_type": "code",
      "source": [
        "print(df[\"Fuel type\"].value_counts())\n",
        "plt.figure(figsize=(10,6))\n",
        "sns.histplot(df[\"Fuel type\"])"
      ],
      "metadata": {
        "execution": {
          "iopub.status.busy": "2023-10-22T09:20:03.3251Z",
          "iopub.execute_input": "2023-10-22T09:20:03.325544Z",
          "iopub.status.idle": "2023-10-22T09:20:03.65198Z",
          "shell.execute_reply.started": "2023-10-22T09:20:03.325505Z",
          "shell.execute_reply": "2023-10-22T09:20:03.64944Z"
        },
        "trusted": true,
        "id": "ABfapizsgv5z"
      },
      "execution_count": null,
      "outputs": []
    },
    {
      "cell_type": "code",
      "source": [
        "plt.figure(figsize=(10,6))\n",
        "sns.boxplot(x=df[\"Fuel type\"],y=df[TARGET])"
      ],
      "metadata": {
        "execution": {
          "iopub.status.busy": "2023-10-22T09:16:15.040169Z",
          "iopub.execute_input": "2023-10-22T09:16:15.040786Z",
          "iopub.status.idle": "2023-10-22T09:16:15.421033Z",
          "shell.execute_reply.started": "2023-10-22T09:16:15.040741Z",
          "shell.execute_reply": "2023-10-22T09:16:15.419789Z"
        },
        "trusted": true,
        "id": "_-DRuyPIgv5z"
      },
      "execution_count": null,
      "outputs": []
    },
    {
      "cell_type": "code",
      "source": [
        "plt.figure(figsize=(10,6))\n",
        "sns.boxplot(x=df[\"Fuel type\"],y=df[\"Registration_Year\"])"
      ],
      "metadata": {
        "execution": {
          "iopub.status.busy": "2023-10-22T09:16:19.723402Z",
          "iopub.execute_input": "2023-10-22T09:16:19.723915Z",
          "iopub.status.idle": "2023-10-22T09:16:20.114615Z",
          "shell.execute_reply.started": "2023-10-22T09:16:19.72387Z",
          "shell.execute_reply": "2023-10-22T09:16:20.113152Z"
        },
        "trusted": true,
        "id": "RQcy1HTagv50"
      },
      "execution_count": null,
      "outputs": []
    },
    {
      "cell_type": "markdown",
      "source": [
        "## Body type"
      ],
      "metadata": {
        "id": "QRykDTrmgv50"
      }
    },
    {
      "cell_type": "code",
      "source": [
        "print(df[\"Body type\"].value_counts())\n",
        "plt.figure(figsize=(10,6))\n",
        "sns.histplot(df[\"Body type\"])"
      ],
      "metadata": {
        "execution": {
          "iopub.status.busy": "2023-10-22T09:20:13.722255Z",
          "iopub.execute_input": "2023-10-22T09:20:13.722683Z",
          "iopub.status.idle": "2023-10-22T09:20:14.086134Z",
          "shell.execute_reply.started": "2023-10-22T09:20:13.722649Z",
          "shell.execute_reply": "2023-10-22T09:20:14.085218Z"
        },
        "trusted": true,
        "id": "MiGgeQu4gv50"
      },
      "execution_count": null,
      "outputs": []
    },
    {
      "cell_type": "code",
      "source": [
        "plt.figure(figsize=(10,6))\n",
        "sns.boxplot(x=df[\"Body type\"],y=df[TARGET])"
      ],
      "metadata": {
        "execution": {
          "iopub.status.busy": "2023-10-22T09:20:29.440125Z",
          "iopub.execute_input": "2023-10-22T09:20:29.440563Z",
          "iopub.status.idle": "2023-10-22T09:20:29.896335Z",
          "shell.execute_reply.started": "2023-10-22T09:20:29.440525Z",
          "shell.execute_reply": "2023-10-22T09:20:29.895088Z"
        },
        "trusted": true,
        "id": "oeeN5LZBgv50"
      },
      "execution_count": null,
      "outputs": []
    },
    {
      "cell_type": "code",
      "source": [
        "pd.crosstab(df[\"Body type\"],df[\"Fuel type\"],margins=True,normalize=True)"
      ],
      "metadata": {
        "execution": {
          "iopub.status.busy": "2023-10-22T09:44:40.733663Z",
          "iopub.execute_input": "2023-10-22T09:44:40.734084Z",
          "iopub.status.idle": "2023-10-22T09:44:40.793289Z",
          "shell.execute_reply.started": "2023-10-22T09:44:40.734049Z",
          "shell.execute_reply": "2023-10-22T09:44:40.791976Z"
        },
        "trusted": true,
        "id": "wet4M3gggv50"
      },
      "execution_count": null,
      "outputs": []
    },
    {
      "cell_type": "markdown",
      "source": [
        "## Engine"
      ],
      "metadata": {
        "id": "GtMqDrdWgv50"
      }
    },
    {
      "cell_type": "code",
      "source": [
        "df[\"Engine\"] = df[\"Engine\"].str[:3].astype(\"float\")"
      ],
      "metadata": {
        "execution": {
          "iopub.status.busy": "2023-10-22T09:46:43.332513Z",
          "iopub.execute_input": "2023-10-22T09:46:43.332954Z",
          "iopub.status.idle": "2023-10-22T09:46:43.343117Z",
          "shell.execute_reply.started": "2023-10-22T09:46:43.332923Z",
          "shell.execute_reply": "2023-10-22T09:46:43.341981Z"
        },
        "trusted": true,
        "id": "3UTs2HBigv50"
      },
      "execution_count": null,
      "outputs": []
    },
    {
      "cell_type": "code",
      "source": [
        "sns.histplot(df[\"Engine\"])"
      ],
      "metadata": {
        "execution": {
          "iopub.status.busy": "2023-10-22T09:47:00.932456Z",
          "iopub.execute_input": "2023-10-22T09:47:00.932908Z",
          "iopub.status.idle": "2023-10-22T09:47:01.388959Z",
          "shell.execute_reply.started": "2023-10-22T09:47:00.932875Z",
          "shell.execute_reply": "2023-10-22T09:47:01.387791Z"
        },
        "trusted": true,
        "id": "Sk6cejbNgv50"
      },
      "execution_count": null,
      "outputs": []
    },
    {
      "cell_type": "code",
      "source": [
        "sns.scatterplot(x=df[\"Engine\"],y=df[TARGET])"
      ],
      "metadata": {
        "execution": {
          "iopub.status.busy": "2023-10-22T09:47:26.516981Z",
          "iopub.execute_input": "2023-10-22T09:47:26.517378Z",
          "iopub.status.idle": "2023-10-22T09:47:26.853998Z",
          "shell.execute_reply.started": "2023-10-22T09:47:26.517346Z",
          "shell.execute_reply": "2023-10-22T09:47:26.852912Z"
        },
        "trusted": true,
        "id": "WCOJWRVvgv50"
      },
      "execution_count": null,
      "outputs": []
    },
    {
      "cell_type": "code",
      "source": [
        "plt.figure(figsize=(10,6))\n",
        "sns.boxplot(x=df[\"Fuel type\"],y=df[\"Engine\"])"
      ],
      "metadata": {
        "execution": {
          "iopub.status.busy": "2023-10-22T09:48:01.101358Z",
          "iopub.execute_input": "2023-10-22T09:48:01.101749Z",
          "iopub.status.idle": "2023-10-22T09:48:01.4487Z",
          "shell.execute_reply.started": "2023-10-22T09:48:01.101719Z",
          "shell.execute_reply": "2023-10-22T09:48:01.447418Z"
        },
        "trusted": true,
        "id": "7nJgrKZTgv50"
      },
      "execution_count": null,
      "outputs": []
    },
    {
      "cell_type": "code",
      "source": [
        "plt.figure(figsize=(10,6))\n",
        "sns.boxplot(x=df[\"Body type\"],y=df[\"Engine\"])"
      ],
      "metadata": {
        "execution": {
          "iopub.status.busy": "2023-10-22T09:47:46.482838Z",
          "iopub.execute_input": "2023-10-22T09:47:46.48321Z",
          "iopub.status.idle": "2023-10-22T09:47:46.926544Z",
          "shell.execute_reply.started": "2023-10-22T09:47:46.48318Z",
          "shell.execute_reply": "2023-10-22T09:47:46.925656Z"
        },
        "trusted": true,
        "id": "zqtR2l3ogv50"
      },
      "execution_count": null,
      "outputs": []
    },
    {
      "cell_type": "markdown",
      "source": [
        "## Gearbox"
      ],
      "metadata": {
        "id": "EmmXBXehgv54"
      }
    },
    {
      "cell_type": "code",
      "source": [
        "df[\"Gearbox\"].value_counts()"
      ],
      "metadata": {
        "execution": {
          "iopub.status.busy": "2023-10-22T09:50:57.383968Z",
          "iopub.execute_input": "2023-10-22T09:50:57.384349Z",
          "iopub.status.idle": "2023-10-22T09:50:57.399326Z",
          "shell.execute_reply.started": "2023-10-22T09:50:57.38432Z",
          "shell.execute_reply": "2023-10-22T09:50:57.398409Z"
        },
        "trusted": true,
        "id": "mI9BkaDbgv54"
      },
      "execution_count": null,
      "outputs": []
    },
    {
      "cell_type": "code",
      "source": [
        "sns.boxplot(x=df[\"Gearbox\"],y=df[TARGET])"
      ],
      "metadata": {
        "execution": {
          "iopub.status.busy": "2023-10-22T09:51:33.666783Z",
          "iopub.execute_input": "2023-10-22T09:51:33.667222Z",
          "iopub.status.idle": "2023-10-22T09:51:33.938823Z",
          "shell.execute_reply.started": "2023-10-22T09:51:33.667189Z",
          "shell.execute_reply": "2023-10-22T09:51:33.937646Z"
        },
        "trusted": true,
        "id": "lAd0JHiKgv54"
      },
      "execution_count": null,
      "outputs": []
    },
    {
      "cell_type": "code",
      "source": [
        "sns.boxplot(x=df[\"Gearbox\"],y=df[\"Registration_Year\"])"
      ],
      "metadata": {
        "execution": {
          "iopub.status.busy": "2023-10-22T09:51:58.865963Z",
          "iopub.execute_input": "2023-10-22T09:51:58.866798Z",
          "iopub.status.idle": "2023-10-22T09:51:59.131521Z",
          "shell.execute_reply.started": "2023-10-22T09:51:58.866758Z",
          "shell.execute_reply": "2023-10-22T09:51:59.129959Z"
        },
        "trusted": true,
        "id": "N9vTI_QKgv54"
      },
      "execution_count": null,
      "outputs": []
    },
    {
      "cell_type": "code",
      "source": [
        "pd.crosstab(df[\"Fuel type\"],df[\"Gearbox\"],margins=True,normalize=True)"
      ],
      "metadata": {
        "execution": {
          "iopub.status.busy": "2023-10-22T09:53:19.099683Z",
          "iopub.execute_input": "2023-10-22T09:53:19.100095Z",
          "iopub.status.idle": "2023-10-22T09:53:19.147373Z",
          "shell.execute_reply.started": "2023-10-22T09:53:19.100062Z",
          "shell.execute_reply": "2023-10-22T09:53:19.146285Z"
        },
        "trusted": true,
        "id": "2XNuxE2Vgv54"
      },
      "execution_count": null,
      "outputs": []
    },
    {
      "cell_type": "code",
      "source": [
        "pd.crosstab(df[\"Body type\"],df[\"Gearbox\"],margins=True,normalize=True)"
      ],
      "metadata": {
        "execution": {
          "iopub.status.busy": "2023-10-22T09:52:35.366992Z",
          "iopub.execute_input": "2023-10-22T09:52:35.367403Z",
          "iopub.status.idle": "2023-10-22T09:52:35.421245Z",
          "shell.execute_reply.started": "2023-10-22T09:52:35.367371Z",
          "shell.execute_reply": "2023-10-22T09:52:35.420018Z"
        },
        "trusted": true,
        "id": "nAG8k3SQgv54"
      },
      "execution_count": null,
      "outputs": []
    },
    {
      "cell_type": "markdown",
      "source": [
        "## Doors"
      ],
      "metadata": {
        "id": "Qc8Uu1Cpgv54"
      }
    },
    {
      "cell_type": "code",
      "source": [
        "sns.histplot(df[\"Doors\"])"
      ],
      "metadata": {
        "execution": {
          "iopub.status.busy": "2023-10-22T09:55:19.281775Z",
          "iopub.execute_input": "2023-10-22T09:55:19.28226Z",
          "iopub.status.idle": "2023-10-22T09:55:19.60782Z",
          "shell.execute_reply.started": "2023-10-22T09:55:19.282222Z",
          "shell.execute_reply": "2023-10-22T09:55:19.606476Z"
        },
        "trusted": true,
        "id": "fTgzdJXQgv54"
      },
      "execution_count": null,
      "outputs": []
    },
    {
      "cell_type": "code",
      "source": [
        "sns.boxplot(x=df[\"Doors\"],y=df[TARGET])"
      ],
      "metadata": {
        "execution": {
          "iopub.status.busy": "2023-10-22T09:55:33.949254Z",
          "iopub.execute_input": "2023-10-22T09:55:33.949777Z",
          "iopub.status.idle": "2023-10-22T09:55:34.263048Z",
          "shell.execute_reply.started": "2023-10-22T09:55:33.949736Z",
          "shell.execute_reply": "2023-10-22T09:55:34.261916Z"
        },
        "trusted": true,
        "id": "NTBzmtrfgv54"
      },
      "execution_count": null,
      "outputs": []
    },
    {
      "cell_type": "markdown",
      "source": [
        "## Seats"
      ],
      "metadata": {
        "id": "UpIl28rqgv54"
      }
    },
    {
      "cell_type": "code",
      "source": [
        "sns.histplot(df[\"Seats\"])"
      ],
      "metadata": {
        "execution": {
          "iopub.status.busy": "2023-10-22T09:57:32.566948Z",
          "iopub.execute_input": "2023-10-22T09:57:32.567658Z",
          "iopub.status.idle": "2023-10-22T09:57:32.925844Z",
          "shell.execute_reply.started": "2023-10-22T09:57:32.567609Z",
          "shell.execute_reply": "2023-10-22T09:57:32.924666Z"
        },
        "trusted": true,
        "id": "B9nt9lRegv55"
      },
      "execution_count": null,
      "outputs": []
    },
    {
      "cell_type": "code",
      "source": [
        "sns.boxplot(x=df[\"Seats\"],y=df[TARGET])"
      ],
      "metadata": {
        "execution": {
          "iopub.status.busy": "2023-10-22T09:57:41.315204Z",
          "iopub.execute_input": "2023-10-22T09:57:41.315642Z",
          "iopub.status.idle": "2023-10-22T09:57:41.675833Z",
          "shell.execute_reply.started": "2023-10-22T09:57:41.315599Z",
          "shell.execute_reply": "2023-10-22T09:57:41.674413Z"
        },
        "trusted": true,
        "id": "HuIEEvtjgv55"
      },
      "execution_count": null,
      "outputs": []
    },
    {
      "cell_type": "code",
      "source": [
        "pd.crosstab(df[\"Doors\"],df[\"Seats\"],margins=True,normalize=True)"
      ],
      "metadata": {
        "execution": {
          "iopub.status.busy": "2023-10-22T09:59:03.984757Z",
          "iopub.execute_input": "2023-10-22T09:59:03.985165Z",
          "iopub.status.idle": "2023-10-22T09:59:04.046777Z",
          "shell.execute_reply.started": "2023-10-22T09:59:03.98513Z",
          "shell.execute_reply": "2023-10-22T09:59:04.045521Z"
        },
        "trusted": true,
        "id": "zj0VJswDgv55"
      },
      "execution_count": null,
      "outputs": []
    },
    {
      "cell_type": "markdown",
      "source": [
        "#### Odd doors are oddly constructed."
      ],
      "metadata": {
        "id": "L4VMpAA2gv55"
      }
    },
    {
      "cell_type": "markdown",
      "source": [
        "## Emission Class"
      ],
      "metadata": {
        "id": "cjEYpIJDgv55"
      }
    },
    {
      "cell_type": "code",
      "source": [
        "df[\"Emission Class\"].value_counts()"
      ],
      "metadata": {
        "execution": {
          "iopub.status.busy": "2023-10-22T10:00:39.349992Z",
          "iopub.execute_input": "2023-10-22T10:00:39.350432Z",
          "iopub.status.idle": "2023-10-22T10:00:39.36201Z",
          "shell.execute_reply.started": "2023-10-22T10:00:39.350398Z",
          "shell.execute_reply": "2023-10-22T10:00:39.360676Z"
        },
        "trusted": true,
        "id": "hWjVi9OCgv55"
      },
      "execution_count": null,
      "outputs": []
    },
    {
      "cell_type": "code",
      "source": [
        "sns.boxplot(x=df[\"Emission Class\"],y=df[TARGET])"
      ],
      "metadata": {
        "execution": {
          "iopub.status.busy": "2023-10-22T10:00:55.783792Z",
          "iopub.execute_input": "2023-10-22T10:00:55.784198Z",
          "iopub.status.idle": "2023-10-22T10:00:56.15868Z",
          "shell.execute_reply.started": "2023-10-22T10:00:55.784165Z",
          "shell.execute_reply": "2023-10-22T10:00:56.157692Z"
        },
        "trusted": true,
        "id": "_an8vpF9gv55"
      },
      "execution_count": null,
      "outputs": []
    },
    {
      "cell_type": "code",
      "source": [
        "sns.boxplot(x=df[\"Emission Class\"],y=df[\"Registration_Year\"])"
      ],
      "metadata": {
        "execution": {
          "iopub.status.busy": "2023-10-22T10:03:35.846446Z",
          "iopub.execute_input": "2023-10-22T10:03:35.846877Z",
          "iopub.status.idle": "2023-10-22T10:03:36.193254Z",
          "shell.execute_reply.started": "2023-10-22T10:03:35.846843Z",
          "shell.execute_reply": "2023-10-22T10:03:36.191929Z"
        },
        "trusted": true,
        "id": "Monh3Tqsgv55"
      },
      "execution_count": null,
      "outputs": []
    },
    {
      "cell_type": "markdown",
      "source": [
        "### 5.6 is exceptionally high. Recently manufactured ones tend to be 5.6\n",
        "### What could be the reason why 1 is also high on average?"
      ],
      "metadata": {
        "id": "x83dcLrYgv55"
      }
    },
    {
      "cell_type": "markdown",
      "source": [
        "## Service history"
      ],
      "metadata": {
        "id": "pYfwI7Yhgv55"
      }
    },
    {
      "cell_type": "code",
      "source": [
        "df[\"Service history\"].fillna(\"None\",inplace=True)"
      ],
      "metadata": {
        "execution": {
          "iopub.status.busy": "2023-10-22T10:05:24.898097Z",
          "iopub.execute_input": "2023-10-22T10:05:24.89856Z",
          "iopub.status.idle": "2023-10-22T10:05:24.907014Z",
          "shell.execute_reply.started": "2023-10-22T10:05:24.898527Z",
          "shell.execute_reply": "2023-10-22T10:05:24.90534Z"
        },
        "trusted": true,
        "id": "geoOD7ERgv55"
      },
      "execution_count": null,
      "outputs": []
    },
    {
      "cell_type": "code",
      "source": [
        "sns.boxplot(x=df[\"Service history\"],y=df[TARGET])"
      ],
      "metadata": {
        "execution": {
          "iopub.status.busy": "2023-10-22T10:05:42.313368Z",
          "iopub.execute_input": "2023-10-22T10:05:42.313855Z",
          "iopub.status.idle": "2023-10-22T10:05:42.595235Z",
          "shell.execute_reply.started": "2023-10-22T10:05:42.313818Z",
          "shell.execute_reply": "2023-10-22T10:05:42.593997Z"
        },
        "trusted": true,
        "id": "8_Nl-9wBgv56"
      },
      "execution_count": null,
      "outputs": []
    },
    {
      "cell_type": "code",
      "source": [],
      "metadata": {
        "id": "bCIbr23igv56"
      },
      "execution_count": null,
      "outputs": []
    }
  ]
}